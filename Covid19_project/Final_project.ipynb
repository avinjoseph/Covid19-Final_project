{
 "cells": [
  {
   "cell_type": "markdown",
   "metadata": {},
   "source": [
    "# Importing libraries"
   ]
  },
  {
   "cell_type": "code",
   "execution_count": 54,
   "metadata": {},
   "outputs": [],
   "source": [
    "import pandas as pd\n",
    "import numpy as np\n",
    "import matplotlib.pyplot as plt\n",
    "import seaborn as sns\n",
    "from datetime import datetime\n",
    "import plotly as py\n",
    "import plotly.graph_objects as go\n",
    "import plotly.express as px\n",
    "from sklearn.linear_model import LinearRegression\n",
    "from sklearn.metrics import mean_squared_error \n",
    "from sklearn.preprocessing import PolynomialFeatures\n",
    "from sklearn.model_selection import train_test_split\n",
    "from jupyter_dash import JupyterDash\n",
    "import dash_core_components as dcc\n",
    "import dash_html_components as html"
   ]
  },
  {
   "cell_type": "code",
   "execution_count": 55,
   "metadata": {},
   "outputs": [],
   "source": [
    "output=[]\n",
    "i=0"
   ]
  },
  {
   "cell_type": "markdown",
   "metadata": {},
   "source": [
    "# Reading files"
   ]
  },
  {
   "cell_type": "code",
   "execution_count": 56,
   "metadata": {},
   "outputs": [],
   "source": [
    "data = pd.read_csv(\"covid_19_data.csv\")\n",
    "data_age =pd.read_csv(\"COVID-19_by_Age_Group.csv\")"
   ]
  },
  {
   "cell_type": "code",
   "execution_count": 57,
   "metadata": {},
   "outputs": [
    {
     "name": "stdout",
     "output_type": "stream",
     "text": [
      "(84154, 8)\n",
      "Current Update :4/6/20 9:37\n",
      "SNo                    0\n",
      "ObservationDate        0\n",
      "Province/State     27961\n",
      "Country/Region         0\n",
      "Last Update            0\n",
      "Confirmed              0\n",
      "Deaths                 0\n",
      "Recovered              0\n",
      "dtype: int64\n"
     ]
    }
   ],
   "source": [
    "print(data.shape)\n",
    "print(\"Current Update :\" + str(data[\"Last Update\"].max()))\n",
    "print(data.isnull().sum())"
   ]
  },
  {
   "cell_type": "code",
   "execution_count": 58,
   "metadata": {},
   "outputs": [
    {
     "data": {
      "text/html": [
       "<div>\n",
       "<style scoped>\n",
       "    .dataframe tbody tr th:only-of-type {\n",
       "        vertical-align: middle;\n",
       "    }\n",
       "\n",
       "    .dataframe tbody tr th {\n",
       "        vertical-align: top;\n",
       "    }\n",
       "\n",
       "    .dataframe thead th {\n",
       "        text-align: right;\n",
       "    }\n",
       "</style>\n",
       "<table border=\"1\" class=\"dataframe\">\n",
       "  <thead>\n",
       "    <tr style=\"text-align: right;\">\n",
       "      <th></th>\n",
       "      <th>SNo</th>\n",
       "      <th>ObservationDate</th>\n",
       "      <th>Province/State</th>\n",
       "      <th>Country/Region</th>\n",
       "      <th>Last Update</th>\n",
       "      <th>Confirmed</th>\n",
       "      <th>Deaths</th>\n",
       "      <th>Recovered</th>\n",
       "    </tr>\n",
       "  </thead>\n",
       "  <tbody>\n",
       "    <tr>\n",
       "      <th>84144</th>\n",
       "      <td>84145</td>\n",
       "      <td>08/10/2020</td>\n",
       "      <td>Yukon</td>\n",
       "      <td>Canada</td>\n",
       "      <td>2020-08-11 04:35:08</td>\n",
       "      <td>15.0</td>\n",
       "      <td>0.0</td>\n",
       "      <td>13.0</td>\n",
       "    </tr>\n",
       "    <tr>\n",
       "      <th>84145</th>\n",
       "      <td>84146</td>\n",
       "      <td>08/10/2020</td>\n",
       "      <td>Yunnan</td>\n",
       "      <td>Mainland China</td>\n",
       "      <td>2020-08-11 04:35:08</td>\n",
       "      <td>191.0</td>\n",
       "      <td>2.0</td>\n",
       "      <td>188.0</td>\n",
       "    </tr>\n",
       "    <tr>\n",
       "      <th>84146</th>\n",
       "      <td>84147</td>\n",
       "      <td>08/10/2020</td>\n",
       "      <td>Zabaykalsky Krai</td>\n",
       "      <td>Russia</td>\n",
       "      <td>2020-08-11 04:35:08</td>\n",
       "      <td>4210.0</td>\n",
       "      <td>49.0</td>\n",
       "      <td>3860.0</td>\n",
       "    </tr>\n",
       "    <tr>\n",
       "      <th>84147</th>\n",
       "      <td>84148</td>\n",
       "      <td>08/10/2020</td>\n",
       "      <td>Zacatecas</td>\n",
       "      <td>Mexico</td>\n",
       "      <td>2020-08-11 04:35:08</td>\n",
       "      <td>3515.0</td>\n",
       "      <td>332.0</td>\n",
       "      <td>2519.0</td>\n",
       "    </tr>\n",
       "    <tr>\n",
       "      <th>84148</th>\n",
       "      <td>84149</td>\n",
       "      <td>08/10/2020</td>\n",
       "      <td>Zakarpattia Oblast</td>\n",
       "      <td>Ukraine</td>\n",
       "      <td>2020-08-11 04:35:08</td>\n",
       "      <td>5809.0</td>\n",
       "      <td>222.0</td>\n",
       "      <td>2497.0</td>\n",
       "    </tr>\n",
       "    <tr>\n",
       "      <th>84149</th>\n",
       "      <td>84150</td>\n",
       "      <td>08/10/2020</td>\n",
       "      <td>Zaporizhia Oblast</td>\n",
       "      <td>Ukraine</td>\n",
       "      <td>2020-08-11 04:35:08</td>\n",
       "      <td>953.0</td>\n",
       "      <td>22.0</td>\n",
       "      <td>652.0</td>\n",
       "    </tr>\n",
       "    <tr>\n",
       "      <th>84150</th>\n",
       "      <td>84151</td>\n",
       "      <td>08/10/2020</td>\n",
       "      <td>Zeeland</td>\n",
       "      <td>Netherlands</td>\n",
       "      <td>2020-08-11 04:35:08</td>\n",
       "      <td>918.0</td>\n",
       "      <td>69.0</td>\n",
       "      <td>0.0</td>\n",
       "    </tr>\n",
       "    <tr>\n",
       "      <th>84151</th>\n",
       "      <td>84152</td>\n",
       "      <td>08/10/2020</td>\n",
       "      <td>Zhejiang</td>\n",
       "      <td>Mainland China</td>\n",
       "      <td>2020-08-11 04:35:08</td>\n",
       "      <td>1274.0</td>\n",
       "      <td>1.0</td>\n",
       "      <td>1268.0</td>\n",
       "    </tr>\n",
       "    <tr>\n",
       "      <th>84152</th>\n",
       "      <td>84153</td>\n",
       "      <td>08/10/2020</td>\n",
       "      <td>Zhytomyr Oblast</td>\n",
       "      <td>Ukraine</td>\n",
       "      <td>2020-08-11 04:35:08</td>\n",
       "      <td>2154.0</td>\n",
       "      <td>43.0</td>\n",
       "      <td>1524.0</td>\n",
       "    </tr>\n",
       "    <tr>\n",
       "      <th>84153</th>\n",
       "      <td>84154</td>\n",
       "      <td>08/10/2020</td>\n",
       "      <td>Zuid-Holland</td>\n",
       "      <td>Netherlands</td>\n",
       "      <td>2020-08-11 04:35:08</td>\n",
       "      <td>15184.0</td>\n",
       "      <td>1312.0</td>\n",
       "      <td>0.0</td>\n",
       "    </tr>\n",
       "  </tbody>\n",
       "</table>\n",
       "</div>"
      ],
      "text/plain": [
       "         SNo ObservationDate      Province/State  Country/Region  \\\n",
       "84144  84145      08/10/2020               Yukon          Canada   \n",
       "84145  84146      08/10/2020              Yunnan  Mainland China   \n",
       "84146  84147      08/10/2020    Zabaykalsky Krai          Russia   \n",
       "84147  84148      08/10/2020           Zacatecas          Mexico   \n",
       "84148  84149      08/10/2020  Zakarpattia Oblast         Ukraine   \n",
       "84149  84150      08/10/2020   Zaporizhia Oblast         Ukraine   \n",
       "84150  84151      08/10/2020             Zeeland     Netherlands   \n",
       "84151  84152      08/10/2020            Zhejiang  Mainland China   \n",
       "84152  84153      08/10/2020     Zhytomyr Oblast         Ukraine   \n",
       "84153  84154      08/10/2020        Zuid-Holland     Netherlands   \n",
       "\n",
       "               Last Update  Confirmed  Deaths  Recovered  \n",
       "84144  2020-08-11 04:35:08       15.0     0.0       13.0  \n",
       "84145  2020-08-11 04:35:08      191.0     2.0      188.0  \n",
       "84146  2020-08-11 04:35:08     4210.0    49.0     3860.0  \n",
       "84147  2020-08-11 04:35:08     3515.0   332.0     2519.0  \n",
       "84148  2020-08-11 04:35:08     5809.0   222.0     2497.0  \n",
       "84149  2020-08-11 04:35:08      953.0    22.0      652.0  \n",
       "84150  2020-08-11 04:35:08      918.0    69.0        0.0  \n",
       "84151  2020-08-11 04:35:08     1274.0     1.0     1268.0  \n",
       "84152  2020-08-11 04:35:08     2154.0    43.0     1524.0  \n",
       "84153  2020-08-11 04:35:08    15184.0  1312.0        0.0  "
      ]
     },
     "execution_count": 58,
     "metadata": {},
     "output_type": "execute_result"
    }
   ],
   "source": [
    "#data.head(10)\n",
    "data.tail(10)"
   ]
  },
  {
   "cell_type": "code",
   "execution_count": 59,
   "metadata": {},
   "outputs": [],
   "source": [
    "#convert the datatype to int\n",
    "data = data.astype({\"Confirmed\": int, \"Deaths\": int, \"Recovered\":int})\n",
    "#SNo and Province/State is not required\n",
    "data = data.drop([\"SNo\",\"Province/State\"],axis=1)\n",
    "#renaming Mainland China\n",
    "data['Country/Region'].replace({\"Mainland China\":'China'},inplace = True)"
   ]
  },
  {
   "cell_type": "markdown",
   "metadata": {},
   "source": [
    "**Latest Status**"
   ]
  },
  {
   "cell_type": "code",
   "execution_count": 60,
   "metadata": {},
   "outputs": [
    {
     "name": "stdout",
     "output_type": "stream",
     "text": [
      "Total number of countries affected : 223\n",
      "Total Confirmed Cases : 20089624 \n",
      "Total Death Cases : 736191 \n",
      "Total Recovered Cases : 12280520 \n",
      "Death rate %: 3.66 \n"
     ]
    }
   ],
   "source": [
    "latest = data[data.ObservationDate == data.ObservationDate.max()]\n",
    "print(\"Total number of countries affected :\", data[\"Country/Region\"].nunique())\n",
    "print(\"Total Confirmed Cases : %.d \" %np.sum(latest[\"Confirmed\"]))\n",
    "print(\"Total Death Cases : %.d \" %np.sum(latest[\"Deaths\"]))\n",
    "print(\"Total Recovered Cases : %.d \" %np.sum(latest[\"Recovered\"]))\n",
    "print(\"Death rate %%: %.2f \" %(np.sum(latest[\"Deaths\"])/np.sum(latest[\"Confirmed\"])*100))"
   ]
  },
  {
   "cell_type": "markdown",
   "metadata": {},
   "source": [
    "# Country Wise Data Analysis on Covid-19 till date."
   ]
  },
  {
   "cell_type": "markdown",
   "metadata": {},
   "source": [
    "**Status Of Each Country**"
   ]
  },
  {
   "cell_type": "code",
   "execution_count": 61,
   "metadata": {},
   "outputs": [
    {
     "data": {
      "text/html": [
       "<div>\n",
       "<style scoped>\n",
       "    .dataframe tbody tr th:only-of-type {\n",
       "        vertical-align: middle;\n",
       "    }\n",
       "\n",
       "    .dataframe tbody tr th {\n",
       "        vertical-align: top;\n",
       "    }\n",
       "\n",
       "    .dataframe thead th {\n",
       "        text-align: right;\n",
       "    }\n",
       "</style>\n",
       "<table border=\"1\" class=\"dataframe\">\n",
       "  <thead>\n",
       "    <tr style=\"text-align: right;\">\n",
       "      <th></th>\n",
       "      <th>Confirmed</th>\n",
       "      <th>Deaths</th>\n",
       "      <th>Recovered</th>\n",
       "      <th>Death Rate</th>\n",
       "      <th>Recovery Rate</th>\n",
       "      <th>Active Cases</th>\n",
       "    </tr>\n",
       "    <tr>\n",
       "      <th>Country/Region</th>\n",
       "      <th></th>\n",
       "      <th></th>\n",
       "      <th></th>\n",
       "      <th></th>\n",
       "      <th></th>\n",
       "      <th></th>\n",
       "    </tr>\n",
       "  </thead>\n",
       "  <tbody>\n",
       "    <tr>\n",
       "      <th>US</th>\n",
       "      <td>5094400</td>\n",
       "      <td>163463</td>\n",
       "      <td>1670755</td>\n",
       "      <td>3.208680</td>\n",
       "      <td>32.795913</td>\n",
       "      <td>3260182</td>\n",
       "    </tr>\n",
       "    <tr>\n",
       "      <th>Brazil</th>\n",
       "      <td>3057470</td>\n",
       "      <td>101752</td>\n",
       "      <td>2390830</td>\n",
       "      <td>3.327980</td>\n",
       "      <td>78.196352</td>\n",
       "      <td>564888</td>\n",
       "    </tr>\n",
       "    <tr>\n",
       "      <th>India</th>\n",
       "      <td>2268675</td>\n",
       "      <td>45257</td>\n",
       "      <td>1583489</td>\n",
       "      <td>1.994865</td>\n",
       "      <td>69.797966</td>\n",
       "      <td>639929</td>\n",
       "    </tr>\n",
       "    <tr>\n",
       "      <th>Russia</th>\n",
       "      <td>890799</td>\n",
       "      <td>14973</td>\n",
       "      <td>695317</td>\n",
       "      <td>1.680851</td>\n",
       "      <td>78.055431</td>\n",
       "      <td>180509</td>\n",
       "    </tr>\n",
       "    <tr>\n",
       "      <th>South Africa</th>\n",
       "      <td>563598</td>\n",
       "      <td>10621</td>\n",
       "      <td>417200</td>\n",
       "      <td>1.884499</td>\n",
       "      <td>74.024393</td>\n",
       "      <td>135777</td>\n",
       "    </tr>\n",
       "    <tr>\n",
       "      <th>Mexico</th>\n",
       "      <td>485836</td>\n",
       "      <td>53003</td>\n",
       "      <td>393160</td>\n",
       "      <td>10.909649</td>\n",
       "      <td>80.924427</td>\n",
       "      <td>39673</td>\n",
       "    </tr>\n",
       "    <tr>\n",
       "      <th>Peru</th>\n",
       "      <td>483133</td>\n",
       "      <td>21276</td>\n",
       "      <td>324020</td>\n",
       "      <td>4.403756</td>\n",
       "      <td>67.066419</td>\n",
       "      <td>137837</td>\n",
       "    </tr>\n",
       "    <tr>\n",
       "      <th>Colombia</th>\n",
       "      <td>397623</td>\n",
       "      <td>13154</td>\n",
       "      <td>221484</td>\n",
       "      <td>3.308159</td>\n",
       "      <td>55.702009</td>\n",
       "      <td>162985</td>\n",
       "    </tr>\n",
       "    <tr>\n",
       "      <th>Chile</th>\n",
       "      <td>375044</td>\n",
       "      <td>10139</td>\n",
       "      <td>347342</td>\n",
       "      <td>2.703416</td>\n",
       "      <td>92.613667</td>\n",
       "      <td>17563</td>\n",
       "    </tr>\n",
       "    <tr>\n",
       "      <th>Iran</th>\n",
       "      <td>328844</td>\n",
       "      <td>18616</td>\n",
       "      <td>286642</td>\n",
       "      <td>5.661043</td>\n",
       "      <td>87.166559</td>\n",
       "      <td>23586</td>\n",
       "    </tr>\n",
       "    <tr>\n",
       "      <th>Spain</th>\n",
       "      <td>322980</td>\n",
       "      <td>28576</td>\n",
       "      <td>150376</td>\n",
       "      <td>8.847607</td>\n",
       "      <td>46.558920</td>\n",
       "      <td>144028</td>\n",
       "    </tr>\n",
       "    <tr>\n",
       "      <th>UK</th>\n",
       "      <td>313392</td>\n",
       "      <td>46611</td>\n",
       "      <td>1463</td>\n",
       "      <td>14.873066</td>\n",
       "      <td>0.466827</td>\n",
       "      <td>265318</td>\n",
       "    </tr>\n",
       "    <tr>\n",
       "      <th>Saudi Arabia</th>\n",
       "      <td>289947</td>\n",
       "      <td>3199</td>\n",
       "      <td>253478</td>\n",
       "      <td>1.103305</td>\n",
       "      <td>87.422184</td>\n",
       "      <td>33270</td>\n",
       "    </tr>\n",
       "    <tr>\n",
       "      <th>Pakistan</th>\n",
       "      <td>284660</td>\n",
       "      <td>6097</td>\n",
       "      <td>260764</td>\n",
       "      <td>2.141853</td>\n",
       "      <td>91.605424</td>\n",
       "      <td>17799</td>\n",
       "    </tr>\n",
       "    <tr>\n",
       "      <th>Bangladesh</th>\n",
       "      <td>260507</td>\n",
       "      <td>3438</td>\n",
       "      <td>150437</td>\n",
       "      <td>1.319734</td>\n",
       "      <td>57.747776</td>\n",
       "      <td>106632</td>\n",
       "    </tr>\n",
       "    <tr>\n",
       "      <th>Argentina</th>\n",
       "      <td>253868</td>\n",
       "      <td>4764</td>\n",
       "      <td>108242</td>\n",
       "      <td>1.876566</td>\n",
       "      <td>42.637119</td>\n",
       "      <td>140862</td>\n",
       "    </tr>\n",
       "    <tr>\n",
       "      <th>Italy</th>\n",
       "      <td>250825</td>\n",
       "      <td>35209</td>\n",
       "      <td>202248</td>\n",
       "      <td>14.037277</td>\n",
       "      <td>80.633111</td>\n",
       "      <td>13368</td>\n",
       "    </tr>\n",
       "    <tr>\n",
       "      <th>Turkey</th>\n",
       "      <td>241997</td>\n",
       "      <td>5858</td>\n",
       "      <td>224970</td>\n",
       "      <td>2.420691</td>\n",
       "      <td>92.963962</td>\n",
       "      <td>11169</td>\n",
       "    </tr>\n",
       "    <tr>\n",
       "      <th>France</th>\n",
       "      <td>239349</td>\n",
       "      <td>30327</td>\n",
       "      <td>82971</td>\n",
       "      <td>12.670619</td>\n",
       "      <td>34.665280</td>\n",
       "      <td>126051</td>\n",
       "    </tr>\n",
       "    <tr>\n",
       "      <th>Germany</th>\n",
       "      <td>218508</td>\n",
       "      <td>9203</td>\n",
       "      <td>197382</td>\n",
       "      <td>4.211745</td>\n",
       "      <td>90.331704</td>\n",
       "      <td>11923</td>\n",
       "    </tr>\n",
       "  </tbody>\n",
       "</table>\n",
       "</div>"
      ],
      "text/plain": [
       "                Confirmed  Deaths  Recovered  Death Rate  Recovery Rate  \\\n",
       "Country/Region                                                            \n",
       "US                5094400  163463    1670755    3.208680      32.795913   \n",
       "Brazil            3057470  101752    2390830    3.327980      78.196352   \n",
       "India             2268675   45257    1583489    1.994865      69.797966   \n",
       "Russia             890799   14973     695317    1.680851      78.055431   \n",
       "South Africa       563598   10621     417200    1.884499      74.024393   \n",
       "Mexico             485836   53003     393160   10.909649      80.924427   \n",
       "Peru               483133   21276     324020    4.403756      67.066419   \n",
       "Colombia           397623   13154     221484    3.308159      55.702009   \n",
       "Chile              375044   10139     347342    2.703416      92.613667   \n",
       "Iran               328844   18616     286642    5.661043      87.166559   \n",
       "Spain              322980   28576     150376    8.847607      46.558920   \n",
       "UK                 313392   46611       1463   14.873066       0.466827   \n",
       "Saudi Arabia       289947    3199     253478    1.103305      87.422184   \n",
       "Pakistan           284660    6097     260764    2.141853      91.605424   \n",
       "Bangladesh         260507    3438     150437    1.319734      57.747776   \n",
       "Argentina          253868    4764     108242    1.876566      42.637119   \n",
       "Italy              250825   35209     202248   14.037277      80.633111   \n",
       "Turkey             241997    5858     224970    2.420691      92.963962   \n",
       "France             239349   30327      82971   12.670619      34.665280   \n",
       "Germany            218508    9203     197382    4.211745      90.331704   \n",
       "\n",
       "                Active Cases  \n",
       "Country/Region                \n",
       "US                   3260182  \n",
       "Brazil                564888  \n",
       "India                 639929  \n",
       "Russia                180509  \n",
       "South Africa          135777  \n",
       "Mexico                 39673  \n",
       "Peru                  137837  \n",
       "Colombia              162985  \n",
       "Chile                  17563  \n",
       "Iran                   23586  \n",
       "Spain                 144028  \n",
       "UK                    265318  \n",
       "Saudi Arabia           33270  \n",
       "Pakistan               17799  \n",
       "Bangladesh            106632  \n",
       "Argentina             140862  \n",
       "Italy                  13368  \n",
       "Turkey                 11169  \n",
       "France                126051  \n",
       "Germany                11923  "
      ]
     },
     "execution_count": 61,
     "metadata": {},
     "output_type": "execute_result"
    }
   ],
   "source": [
    "#Top 10 countries with most confirmed cases\n",
    "each = latest.groupby(by=\"Country/Region\").sum()\n",
    "each['Death Rate'] = each['Deaths']/each['Confirmed']*100\n",
    "each['Recovery Rate'] = each['Recovered']/each['Confirmed']*100\n",
    "each['Active Cases'] = each['Confirmed'] - each['Recovered'] - each['Deaths']\n",
    "res = each.sort_values('Confirmed',ascending=False).head(20)\n",
    "res"
   ]
  },
  {
   "cell_type": "code",
   "execution_count": 62,
   "metadata": {},
   "outputs": [
    {
     "data": {
      "image/png": "[encoded data removed]",
      "text/plain": [
       "<Figure size 648x1152 with 3 Axes>"
      ]
     },
     "metadata": {
      "needs_background": "light"
     },
     "output_type": "display_data"
    }
   ],
   "source": [
    "#Graphical representation\n",
    "def plotting(column,title):\n",
    "    col_sort = each.sort_values(column,ascending = False).head(15)\n",
    "    sns.barplot(col_sort[column],col_sort.index)\n",
    "    plt.title(title)\n",
    "    \n",
    "plt.figure(figsize = (9,16))\n",
    "plt.subplot(311)\n",
    "plotting(\"Confirmed\",\"Confirmed cases in Top 15 Countries\")\n",
    "plt.subplot(312)\n",
    "plotting(\"Deaths\",\"Death cases in Top 15 Countries\")\n",
    "plt.subplot(313)\n",
    "plotting(\"Recovered\",\"Recovered cases in Top15 Countries\")"
   ]
  },
  {
   "cell_type": "code",
   "execution_count": 63,
   "metadata": {},
   "outputs": [
    {
     "name": "stderr",
     "output_type": "stream",
     "text": [
      "C:\\Users\\SONY\\anaconda3\\lib\\site-packages\\ipykernel_launcher.py:1: FutureWarning:\n",
      "\n",
      "Indexing with multiple keys (implicitly converted to a tuple of keys) will be deprecated, use a list instead.\n",
      "\n"
     ]
    },
    {
     "data": {
      "text/html": [
       "<div>\n",
       "<style scoped>\n",
       "    .dataframe tbody tr th:only-of-type {\n",
       "        vertical-align: middle;\n",
       "    }\n",
       "\n",
       "    .dataframe tbody tr th {\n",
       "        vertical-align: top;\n",
       "    }\n",
       "\n",
       "    .dataframe thead th {\n",
       "        text-align: right;\n",
       "    }\n",
       "</style>\n",
       "<table border=\"1\" class=\"dataframe\">\n",
       "  <thead>\n",
       "    <tr style=\"text-align: right;\">\n",
       "      <th></th>\n",
       "      <th>ObservationDate</th>\n",
       "      <th>Confirmed</th>\n",
       "      <th>Deaths</th>\n",
       "      <th>Recovered</th>\n",
       "    </tr>\n",
       "  </thead>\n",
       "  <tbody>\n",
       "    <tr>\n",
       "      <th>0</th>\n",
       "      <td>01/22/2020</td>\n",
       "      <td>555</td>\n",
       "      <td>17</td>\n",
       "      <td>28</td>\n",
       "    </tr>\n",
       "    <tr>\n",
       "      <th>1</th>\n",
       "      <td>01/23/2020</td>\n",
       "      <td>653</td>\n",
       "      <td>18</td>\n",
       "      <td>30</td>\n",
       "    </tr>\n",
       "    <tr>\n",
       "      <th>2</th>\n",
       "      <td>01/24/2020</td>\n",
       "      <td>941</td>\n",
       "      <td>26</td>\n",
       "      <td>36</td>\n",
       "    </tr>\n",
       "    <tr>\n",
       "      <th>3</th>\n",
       "      <td>01/25/2020</td>\n",
       "      <td>1438</td>\n",
       "      <td>42</td>\n",
       "      <td>39</td>\n",
       "    </tr>\n",
       "    <tr>\n",
       "      <th>4</th>\n",
       "      <td>01/26/2020</td>\n",
       "      <td>2118</td>\n",
       "      <td>56</td>\n",
       "      <td>52</td>\n",
       "    </tr>\n",
       "  </tbody>\n",
       "</table>\n",
       "</div>"
      ],
      "text/plain": [
       "  ObservationDate  Confirmed  Deaths  Recovered\n",
       "0      01/22/2020        555      17         28\n",
       "1      01/23/2020        653      18         30\n",
       "2      01/24/2020        941      26         36\n",
       "3      01/25/2020       1438      42         39\n",
       "4      01/26/2020       2118      56         52"
      ]
     },
     "execution_count": 63,
     "metadata": {},
     "output_type": "execute_result"
    }
   ],
   "source": [
    "data_copy = data.groupby('ObservationDate')['Confirmed', 'Deaths', 'Recovered'].sum()\n",
    "data_copy= data_copy.reset_index().sort_values('ObservationDate')\n",
    "data_copy.head()"
   ]
  },
  {
   "cell_type": "code",
   "execution_count": 64,
   "metadata": {},
   "outputs": [
    {
     "name": "stderr",
     "output_type": "stream",
     "text": [
      "C:\\Users\\SONY\\anaconda3\\lib\\site-packages\\ipykernel_launcher.py:1: FutureWarning:\n",
      "\n",
      "Indexing with multiple keys (implicitly converted to a tuple of keys) will be deprecated, use a list instead.\n",
      "\n"
     ]
    }
   ],
   "source": [
    "data_w = data.groupby(\"Country/Region\")['Confirmed','Recovered','Deaths'].sum().reset_index()\n",
    "fig= dcc.Graph(id=\"Graph\" + str(i),figure = px.choropleth(data_w, locations=\"Country/Region\",\n",
    "                    color=\"Confirmed\", \n",
    "                    hover_name =\"Country/Region\",\n",
    "                    locationmode='country names',\n",
    "                    color_continuous_scale=\"blugrn\",\n",
    "                    range_color=[1,1000000],\n",
    "                    title='Global Confirmed Cases'))\n",
    "\n",
    "output.append(fig)\n",
    "#fig.show()\n"
   ]
  },
  {
   "cell_type": "code",
   "execution_count": 65,
   "metadata": {},
   "outputs": [],
   "source": [
    "#Graphical Represention\n",
    "x=[i.split('/')[0]+'/'+i.split('/')[1] for i in data_copy.ObservationDate ]\n",
    "fig = go.Figure()\n",
    "fig.add_trace(go.Scatter(x=x, \n",
    "                         y=data_copy['Confirmed'],\n",
    "                         mode='lines+markers',\n",
    "                         name='Confirmed',\n",
    "                         line=dict(color='rgb(102, 102, 255)', width=2)))\n",
    "fig.add_trace(go.Scatter(x=x, \n",
    "                         y=data_copy['Deaths'],\n",
    "                         mode='lines+markers',\n",
    "                         name='Deaths',\n",
    "                         line=dict(color='rgb(255, 102, 102)', width=2)))\n",
    "fig.add_trace(go.Scatter(x=x, \n",
    "                         y=data_copy['Recovered'],\n",
    "                         mode='lines+markers',\n",
    "                         name='Recovered',\n",
    "                         line=dict(color='rgb(0,255,153)', width=2)))\n",
    "fig.update_layout(\n",
    "    title = 'Spread of COVID-19 over time',\n",
    "    template='plotly_dark'\n",
    ")\n",
    "output.append(dcc.Graph(id=\"Graph\"+str(i+1),figure = fig))\n",
    "#fig.show()\n"
   ]
  },
  {
   "cell_type": "markdown",
   "metadata": {},
   "source": [
    "# Predict Day wise Covid-19 Cases."
   ]
  },
  {
   "cell_type": "code",
   "execution_count": 66,
   "metadata": {},
   "outputs": [
    {
     "data": {
      "text/html": [
       "<div>\n",
       "<style scoped>\n",
       "    .dataframe tbody tr th:only-of-type {\n",
       "        vertical-align: middle;\n",
       "    }\n",
       "\n",
       "    .dataframe tbody tr th {\n",
       "        vertical-align: top;\n",
       "    }\n",
       "\n",
       "    .dataframe thead th {\n",
       "        text-align: right;\n",
       "    }\n",
       "</style>\n",
       "<table border=\"1\" class=\"dataframe\">\n",
       "  <thead>\n",
       "    <tr style=\"text-align: right;\">\n",
       "      <th></th>\n",
       "      <th>ObservationDate</th>\n",
       "      <th>Country/Region</th>\n",
       "      <th>Last Update</th>\n",
       "      <th>Confirmed</th>\n",
       "      <th>Deaths</th>\n",
       "      <th>Recovered</th>\n",
       "    </tr>\n",
       "  </thead>\n",
       "  <tbody>\n",
       "    <tr>\n",
       "      <th>0</th>\n",
       "      <td>01/22/2020</td>\n",
       "      <td>China</td>\n",
       "      <td>1/22/2020 17:00</td>\n",
       "      <td>1</td>\n",
       "      <td>0</td>\n",
       "      <td>0</td>\n",
       "    </tr>\n",
       "    <tr>\n",
       "      <th>1</th>\n",
       "      <td>01/22/2020</td>\n",
       "      <td>China</td>\n",
       "      <td>1/22/2020 17:00</td>\n",
       "      <td>14</td>\n",
       "      <td>0</td>\n",
       "      <td>0</td>\n",
       "    </tr>\n",
       "    <tr>\n",
       "      <th>2</th>\n",
       "      <td>01/22/2020</td>\n",
       "      <td>China</td>\n",
       "      <td>1/22/2020 17:00</td>\n",
       "      <td>6</td>\n",
       "      <td>0</td>\n",
       "      <td>0</td>\n",
       "    </tr>\n",
       "    <tr>\n",
       "      <th>3</th>\n",
       "      <td>01/22/2020</td>\n",
       "      <td>China</td>\n",
       "      <td>1/22/2020 17:00</td>\n",
       "      <td>1</td>\n",
       "      <td>0</td>\n",
       "      <td>0</td>\n",
       "    </tr>\n",
       "    <tr>\n",
       "      <th>4</th>\n",
       "      <td>01/22/2020</td>\n",
       "      <td>China</td>\n",
       "      <td>1/22/2020 17:00</td>\n",
       "      <td>0</td>\n",
       "      <td>0</td>\n",
       "      <td>0</td>\n",
       "    </tr>\n",
       "    <tr>\n",
       "      <th>...</th>\n",
       "      <td>...</td>\n",
       "      <td>...</td>\n",
       "      <td>...</td>\n",
       "      <td>...</td>\n",
       "      <td>...</td>\n",
       "      <td>...</td>\n",
       "    </tr>\n",
       "    <tr>\n",
       "      <th>84149</th>\n",
       "      <td>08/10/2020</td>\n",
       "      <td>Ukraine</td>\n",
       "      <td>2020-08-11 04:35:08</td>\n",
       "      <td>953</td>\n",
       "      <td>22</td>\n",
       "      <td>652</td>\n",
       "    </tr>\n",
       "    <tr>\n",
       "      <th>84150</th>\n",
       "      <td>08/10/2020</td>\n",
       "      <td>Netherlands</td>\n",
       "      <td>2020-08-11 04:35:08</td>\n",
       "      <td>918</td>\n",
       "      <td>69</td>\n",
       "      <td>0</td>\n",
       "    </tr>\n",
       "    <tr>\n",
       "      <th>84151</th>\n",
       "      <td>08/10/2020</td>\n",
       "      <td>China</td>\n",
       "      <td>2020-08-11 04:35:08</td>\n",
       "      <td>1274</td>\n",
       "      <td>1</td>\n",
       "      <td>1268</td>\n",
       "    </tr>\n",
       "    <tr>\n",
       "      <th>84152</th>\n",
       "      <td>08/10/2020</td>\n",
       "      <td>Ukraine</td>\n",
       "      <td>2020-08-11 04:35:08</td>\n",
       "      <td>2154</td>\n",
       "      <td>43</td>\n",
       "      <td>1524</td>\n",
       "    </tr>\n",
       "    <tr>\n",
       "      <th>84153</th>\n",
       "      <td>08/10/2020</td>\n",
       "      <td>Netherlands</td>\n",
       "      <td>2020-08-11 04:35:08</td>\n",
       "      <td>15184</td>\n",
       "      <td>1312</td>\n",
       "      <td>0</td>\n",
       "    </tr>\n",
       "  </tbody>\n",
       "</table>\n",
       "<p>84154 rows × 6 columns</p>\n",
       "</div>"
      ],
      "text/plain": [
       "      ObservationDate Country/Region          Last Update  Confirmed  Deaths  \\\n",
       "0          01/22/2020          China      1/22/2020 17:00          1       0   \n",
       "1          01/22/2020          China      1/22/2020 17:00         14       0   \n",
       "2          01/22/2020          China      1/22/2020 17:00          6       0   \n",
       "3          01/22/2020          China      1/22/2020 17:00          1       0   \n",
       "4          01/22/2020          China      1/22/2020 17:00          0       0   \n",
       "...               ...            ...                  ...        ...     ...   \n",
       "84149      08/10/2020        Ukraine  2020-08-11 04:35:08        953      22   \n",
       "84150      08/10/2020    Netherlands  2020-08-11 04:35:08        918      69   \n",
       "84151      08/10/2020          China  2020-08-11 04:35:08       1274       1   \n",
       "84152      08/10/2020        Ukraine  2020-08-11 04:35:08       2154      43   \n",
       "84153      08/10/2020    Netherlands  2020-08-11 04:35:08      15184    1312   \n",
       "\n",
       "       Recovered  \n",
       "0              0  \n",
       "1              0  \n",
       "2              0  \n",
       "3              0  \n",
       "4              0  \n",
       "...          ...  \n",
       "84149        652  \n",
       "84150          0  \n",
       "84151       1268  \n",
       "84152       1524  \n",
       "84153          0  \n",
       "\n",
       "[84154 rows x 6 columns]"
      ]
     },
     "execution_count": 66,
     "metadata": {},
     "output_type": "execute_result"
    }
   ],
   "source": [
    "data_copy = data.copy()\n",
    "data_copy"
   ]
  },
  {
   "cell_type": "code",
   "execution_count": 67,
   "metadata": {},
   "outputs": [],
   "source": [
    "res.reset_index(inplace = True)\n",
    "output.append(dcc.Graph(id=\"fig3\",figure = px.pie(res, values='Confirmed', names='Country/Region', title='Distribution of confirmed cases globally')))\n",
    "#fig.show()"
   ]
  },
  {
   "cell_type": "code",
   "execution_count": 68,
   "metadata": {},
   "outputs": [
    {
     "data": {
      "text/html": [
       "<div>\n",
       "<style scoped>\n",
       "    .dataframe tbody tr th:only-of-type {\n",
       "        vertical-align: middle;\n",
       "    }\n",
       "\n",
       "    .dataframe tbody tr th {\n",
       "        vertical-align: top;\n",
       "    }\n",
       "\n",
       "    .dataframe thead th {\n",
       "        text-align: right;\n",
       "    }\n",
       "</style>\n",
       "<table border=\"1\" class=\"dataframe\">\n",
       "  <thead>\n",
       "    <tr style=\"text-align: right;\">\n",
       "      <th></th>\n",
       "      <th>Confirmed</th>\n",
       "      <th>Recovered</th>\n",
       "      <th>Deaths</th>\n",
       "      <th>Days Since</th>\n",
       "    </tr>\n",
       "    <tr>\n",
       "      <th>ObservationDate</th>\n",
       "      <th></th>\n",
       "      <th></th>\n",
       "      <th></th>\n",
       "      <th></th>\n",
       "    </tr>\n",
       "  </thead>\n",
       "  <tbody>\n",
       "    <tr>\n",
       "      <th>2020-01-22</th>\n",
       "      <td>555</td>\n",
       "      <td>28</td>\n",
       "      <td>17</td>\n",
       "      <td>0</td>\n",
       "    </tr>\n",
       "    <tr>\n",
       "      <th>2020-01-23</th>\n",
       "      <td>653</td>\n",
       "      <td>30</td>\n",
       "      <td>18</td>\n",
       "      <td>1</td>\n",
       "    </tr>\n",
       "    <tr>\n",
       "      <th>2020-01-24</th>\n",
       "      <td>941</td>\n",
       "      <td>36</td>\n",
       "      <td>26</td>\n",
       "      <td>2</td>\n",
       "    </tr>\n",
       "    <tr>\n",
       "      <th>2020-01-25</th>\n",
       "      <td>1438</td>\n",
       "      <td>39</td>\n",
       "      <td>42</td>\n",
       "      <td>3</td>\n",
       "    </tr>\n",
       "    <tr>\n",
       "      <th>2020-01-26</th>\n",
       "      <td>2118</td>\n",
       "      <td>52</td>\n",
       "      <td>56</td>\n",
       "      <td>4</td>\n",
       "    </tr>\n",
       "  </tbody>\n",
       "</table>\n",
       "</div>"
      ],
      "text/plain": [
       "                 Confirmed  Recovered  Deaths  Days Since\n",
       "ObservationDate                                          \n",
       "2020-01-22             555         28      17           0\n",
       "2020-01-23             653         30      18           1\n",
       "2020-01-24             941         36      26           2\n",
       "2020-01-25            1438         39      42           3\n",
       "2020-01-26            2118         52      56           4"
      ]
     },
     "execution_count": 68,
     "metadata": {},
     "output_type": "execute_result"
    }
   ],
   "source": [
    "data_copy[\"ObservationDate\"]=pd.to_datetime(data_copy[\"ObservationDate\"])\n",
    "datewise=data_copy.groupby([\"ObservationDate\"]).agg({\"Confirmed\":'sum',\"Recovered\":'sum',\"Deaths\":'sum'})\n",
    "datewise[\"Days Since\"]=datewise.index-datewise.index[0]\n",
    "datewise[\"Days Since\"]=datewise[\"Days Since\"].dt.days\n",
    "datewise.head()"
   ]
  },
  {
   "cell_type": "code",
   "execution_count": 69,
   "metadata": {},
   "outputs": [],
   "source": [
    "train_ml=datewise.iloc[:int(datewise.shape[0]*0.95)]\n",
    "valid_ml=datewise.iloc[int(datewise.shape[0]*0.95):]"
   ]
  },
  {
   "cell_type": "code",
   "execution_count": 70,
   "metadata": {},
   "outputs": [
    {
     "data": {
      "text/plain": [
       "LinearRegression(copy_X=True, fit_intercept=True, n_jobs=None, normalize=True)"
      ]
     },
     "execution_count": 70,
     "metadata": {},
     "output_type": "execute_result"
    }
   ],
   "source": [
    "lin_reg=LinearRegression(normalize=True)\n",
    "lin_reg.fit(np.array(train_ml[\"Days Since\"]).reshape(-1,1),np.array(train_ml[\"Confirmed\"]).reshape(-1,1))"
   ]
  },
  {
   "cell_type": "code",
   "execution_count": 71,
   "metadata": {},
   "outputs": [
    {
     "data": {
      "text/plain": [
       "array([[12675804.79603197],\n",
       "       [12759892.46575503],\n",
       "       [12843980.1354781 ],\n",
       "       [12928067.80520116],\n",
       "       [13012155.47492423],\n",
       "       [13096243.14464729],\n",
       "       [13180330.81437035],\n",
       "       [13264418.48409342],\n",
       "       [13348506.15381648],\n",
       "       [13432593.82353955],\n",
       "       [13516681.49326261]])"
      ]
     },
     "execution_count": 71,
     "metadata": {},
     "output_type": "execute_result"
    }
   ],
   "source": [
    "prediction_valid_linreg=lin_reg.predict(np.array(valid_ml[\"Days Since\"]).reshape(-1,1))\n",
    "prediction_valid_linreg"
   ]
  },
  {
   "cell_type": "code",
   "execution_count": 72,
   "metadata": {},
   "outputs": [
    {
     "data": {
      "text/html": [
       "<div>\n",
       "<style scoped>\n",
       "    .dataframe tbody tr th:only-of-type {\n",
       "        vertical-align: middle;\n",
       "    }\n",
       "\n",
       "    .dataframe tbody tr th {\n",
       "        vertical-align: top;\n",
       "    }\n",
       "\n",
       "    .dataframe thead th {\n",
       "        text-align: right;\n",
       "    }\n",
       "</style>\n",
       "<table border=\"1\" class=\"dataframe\">\n",
       "  <thead>\n",
       "    <tr style=\"text-align: right;\">\n",
       "      <th></th>\n",
       "      <th>Actual</th>\n",
       "      <th>Predicted</th>\n",
       "    </tr>\n",
       "    <tr>\n",
       "      <th>ObservationDate</th>\n",
       "      <th></th>\n",
       "      <th></th>\n",
       "    </tr>\n",
       "  </thead>\n",
       "  <tbody>\n",
       "    <tr>\n",
       "      <th>2020-07-31</th>\n",
       "      <td>17599836</td>\n",
       "      <td>1.267580e+07</td>\n",
       "    </tr>\n",
       "    <tr>\n",
       "      <th>2020-08-01</th>\n",
       "      <td>17850479</td>\n",
       "      <td>1.275989e+07</td>\n",
       "    </tr>\n",
       "    <tr>\n",
       "      <th>2020-08-02</th>\n",
       "      <td>18079516</td>\n",
       "      <td>1.284398e+07</td>\n",
       "    </tr>\n",
       "    <tr>\n",
       "      <th>2020-08-03</th>\n",
       "      <td>18282208</td>\n",
       "      <td>1.292807e+07</td>\n",
       "    </tr>\n",
       "    <tr>\n",
       "      <th>2020-08-04</th>\n",
       "      <td>18540789</td>\n",
       "      <td>1.301216e+07</td>\n",
       "    </tr>\n",
       "    <tr>\n",
       "      <th>2020-08-05</th>\n",
       "      <td>18811953</td>\n",
       "      <td>1.309624e+07</td>\n",
       "    </tr>\n",
       "    <tr>\n",
       "      <th>2020-08-06</th>\n",
       "      <td>19097149</td>\n",
       "      <td>1.318033e+07</td>\n",
       "    </tr>\n",
       "    <tr>\n",
       "      <th>2020-08-07</th>\n",
       "      <td>19378036</td>\n",
       "      <td>1.326442e+07</td>\n",
       "    </tr>\n",
       "    <tr>\n",
       "      <th>2020-08-08</th>\n",
       "      <td>19637506</td>\n",
       "      <td>1.334851e+07</td>\n",
       "    </tr>\n",
       "    <tr>\n",
       "      <th>2020-08-09</th>\n",
       "      <td>19861683</td>\n",
       "      <td>1.343259e+07</td>\n",
       "    </tr>\n",
       "    <tr>\n",
       "      <th>2020-08-10</th>\n",
       "      <td>20089624</td>\n",
       "      <td>1.351668e+07</td>\n",
       "    </tr>\n",
       "  </tbody>\n",
       "</table>\n",
       "</div>"
      ],
      "text/plain": [
       "                   Actual     Predicted\n",
       "ObservationDate                        \n",
       "2020-07-31       17599836  1.267580e+07\n",
       "2020-08-01       17850479  1.275989e+07\n",
       "2020-08-02       18079516  1.284398e+07\n",
       "2020-08-03       18282208  1.292807e+07\n",
       "2020-08-04       18540789  1.301216e+07\n",
       "2020-08-05       18811953  1.309624e+07\n",
       "2020-08-06       19097149  1.318033e+07\n",
       "2020-08-07       19378036  1.326442e+07\n",
       "2020-08-08       19637506  1.334851e+07\n",
       "2020-08-09       19861683  1.343259e+07\n",
       "2020-08-10       20089624  1.351668e+07"
      ]
     },
     "execution_count": 72,
     "metadata": {},
     "output_type": "execute_result"
    }
   ],
   "source": [
    "pd.DataFrame({'Actual':valid_ml[\"Confirmed\"],'Predicted':prediction_valid_linreg.ravel()})"
   ]
  },
  {
   "cell_type": "code",
   "execution_count": 73,
   "metadata": {},
   "outputs": [
    {
     "name": "stdout",
     "output_type": "stream",
     "text": [
      "Root Mean Square Error for Linear Regression:  5767828.265106377\n"
     ]
    }
   ],
   "source": [
    "print(\"Root Mean Square Error for Linear Regression: \",np.sqrt(mean_squared_error(valid_ml[\"Confirmed\"],prediction_valid_linreg)))"
   ]
  },
  {
   "cell_type": "code",
   "execution_count": 74,
   "metadata": {},
   "outputs": [],
   "source": [
    "poly = PolynomialFeatures(degree = 8) \n",
    "train_poly=poly.fit_transform(np.array(train_ml[\"Days Since\"]).reshape(-1,1))\n",
    "valid_poly=poly.fit_transform(np.array(valid_ml[\"Days Since\"]).reshape(-1,1))\n",
    "y=train_ml[\"Confirmed\"]"
   ]
  },
  {
   "cell_type": "code",
   "execution_count": 75,
   "metadata": {},
   "outputs": [
    {
     "data": {
      "text/plain": [
       "LinearRegression(copy_X=True, fit_intercept=True, n_jobs=None, normalize=True)"
      ]
     },
     "execution_count": 75,
     "metadata": {},
     "output_type": "execute_result"
    }
   ],
   "source": [
    "lin_reg.fit(train_poly,y)"
   ]
  },
  {
   "cell_type": "code",
   "execution_count": 76,
   "metadata": {},
   "outputs": [
    {
     "name": "stdout",
     "output_type": "stream",
     "text": [
      "Root Mean Squared Error for Polynomial Regression:  778009.7507193242\n"
     ]
    }
   ],
   "source": [
    "prediction_poly=lin_reg.predict(valid_poly)\n",
    "rmse_poly=np.sqrt(mean_squared_error(valid_ml[\"Confirmed\"],prediction_poly))\n",
    "print(\"Root Mean Squared Error for Polynomial Regression: \",rmse_poly)"
   ]
  },
  {
   "cell_type": "code",
   "execution_count": 77,
   "metadata": {},
   "outputs": [
    {
     "data": {
      "text/html": [
       "<div>\n",
       "<style scoped>\n",
       "    .dataframe tbody tr th:only-of-type {\n",
       "        vertical-align: middle;\n",
       "    }\n",
       "\n",
       "    .dataframe tbody tr th {\n",
       "        vertical-align: top;\n",
       "    }\n",
       "\n",
       "    .dataframe thead th {\n",
       "        text-align: right;\n",
       "    }\n",
       "</style>\n",
       "<table border=\"1\" class=\"dataframe\">\n",
       "  <thead>\n",
       "    <tr style=\"text-align: right;\">\n",
       "      <th></th>\n",
       "      <th>Actual</th>\n",
       "      <th>Predicted</th>\n",
       "    </tr>\n",
       "    <tr>\n",
       "      <th>ObservationDate</th>\n",
       "      <th></th>\n",
       "      <th></th>\n",
       "    </tr>\n",
       "  </thead>\n",
       "  <tbody>\n",
       "    <tr>\n",
       "      <th>2020-07-31</th>\n",
       "      <td>17599836</td>\n",
       "      <td>1.766870e+07</td>\n",
       "    </tr>\n",
       "    <tr>\n",
       "      <th>2020-08-01</th>\n",
       "      <td>17850479</td>\n",
       "      <td>1.798673e+07</td>\n",
       "    </tr>\n",
       "    <tr>\n",
       "      <th>2020-08-02</th>\n",
       "      <td>18079516</td>\n",
       "      <td>1.831703e+07</td>\n",
       "    </tr>\n",
       "    <tr>\n",
       "      <th>2020-08-03</th>\n",
       "      <td>18282208</td>\n",
       "      <td>1.866084e+07</td>\n",
       "    </tr>\n",
       "    <tr>\n",
       "      <th>2020-08-04</th>\n",
       "      <td>18540789</td>\n",
       "      <td>1.901952e+07</td>\n",
       "    </tr>\n",
       "    <tr>\n",
       "      <th>2020-08-05</th>\n",
       "      <td>18811953</td>\n",
       "      <td>1.939453e+07</td>\n",
       "    </tr>\n",
       "    <tr>\n",
       "      <th>2020-08-06</th>\n",
       "      <td>19097149</td>\n",
       "      <td>1.978748e+07</td>\n",
       "    </tr>\n",
       "    <tr>\n",
       "      <th>2020-08-07</th>\n",
       "      <td>19378036</td>\n",
       "      <td>2.020010e+07</td>\n",
       "    </tr>\n",
       "    <tr>\n",
       "      <th>2020-08-08</th>\n",
       "      <td>19637506</td>\n",
       "      <td>2.063424e+07</td>\n",
       "    </tr>\n",
       "    <tr>\n",
       "      <th>2020-08-09</th>\n",
       "      <td>19861683</td>\n",
       "      <td>2.109193e+07</td>\n",
       "    </tr>\n",
       "    <tr>\n",
       "      <th>2020-08-10</th>\n",
       "      <td>20089624</td>\n",
       "      <td>2.157532e+07</td>\n",
       "    </tr>\n",
       "  </tbody>\n",
       "</table>\n",
       "</div>"
      ],
      "text/plain": [
       "                   Actual     Predicted\n",
       "ObservationDate                        \n",
       "2020-07-31       17599836  1.766870e+07\n",
       "2020-08-01       17850479  1.798673e+07\n",
       "2020-08-02       18079516  1.831703e+07\n",
       "2020-08-03       18282208  1.866084e+07\n",
       "2020-08-04       18540789  1.901952e+07\n",
       "2020-08-05       18811953  1.939453e+07\n",
       "2020-08-06       19097149  1.978748e+07\n",
       "2020-08-07       19378036  2.020010e+07\n",
       "2020-08-08       19637506  2.063424e+07\n",
       "2020-08-09       19861683  2.109193e+07\n",
       "2020-08-10       20089624  2.157532e+07"
      ]
     },
     "execution_count": 77,
     "metadata": {},
     "output_type": "execute_result"
    }
   ],
   "source": [
    "pd.DataFrame({'Actual':valid_ml[\"Confirmed\"],'Predicted':prediction_poly})"
   ]
  },
  {
   "cell_type": "markdown",
   "metadata": {},
   "source": [
    "Linear Regression is no way near the predicted value"
   ]
  },
  {
   "cell_type": "markdown",
   "metadata": {},
   "source": [
    "# Time Series Data Analysis of Confirmed Cases till date on each Country (global)"
   ]
  },
  {
   "cell_type": "code",
   "execution_count": 78,
   "metadata": {},
   "outputs": [
    {
     "data": {
      "text/html": [
       "<div>\n",
       "<style scoped>\n",
       "    .dataframe tbody tr th:only-of-type {\n",
       "        vertical-align: middle;\n",
       "    }\n",
       "\n",
       "    .dataframe tbody tr th {\n",
       "        vertical-align: top;\n",
       "    }\n",
       "\n",
       "    .dataframe thead th {\n",
       "        text-align: right;\n",
       "    }\n",
       "</style>\n",
       "<table border=\"1\" class=\"dataframe\">\n",
       "  <thead>\n",
       "    <tr style=\"text-align: right;\">\n",
       "      <th></th>\n",
       "      <th>ObservationDate</th>\n",
       "      <th>Country/Region</th>\n",
       "      <th>Last Update</th>\n",
       "      <th>Confirmed</th>\n",
       "      <th>Deaths</th>\n",
       "      <th>Recovered</th>\n",
       "    </tr>\n",
       "  </thead>\n",
       "  <tbody>\n",
       "    <tr>\n",
       "      <th>0</th>\n",
       "      <td>01/22/2020</td>\n",
       "      <td>China</td>\n",
       "      <td>1/22/2020 17:00</td>\n",
       "      <td>1</td>\n",
       "      <td>0</td>\n",
       "      <td>0</td>\n",
       "    </tr>\n",
       "    <tr>\n",
       "      <th>1</th>\n",
       "      <td>01/22/2020</td>\n",
       "      <td>China</td>\n",
       "      <td>1/22/2020 17:00</td>\n",
       "      <td>14</td>\n",
       "      <td>0</td>\n",
       "      <td>0</td>\n",
       "    </tr>\n",
       "    <tr>\n",
       "      <th>2</th>\n",
       "      <td>01/22/2020</td>\n",
       "      <td>China</td>\n",
       "      <td>1/22/2020 17:00</td>\n",
       "      <td>6</td>\n",
       "      <td>0</td>\n",
       "      <td>0</td>\n",
       "    </tr>\n",
       "    <tr>\n",
       "      <th>3</th>\n",
       "      <td>01/22/2020</td>\n",
       "      <td>China</td>\n",
       "      <td>1/22/2020 17:00</td>\n",
       "      <td>1</td>\n",
       "      <td>0</td>\n",
       "      <td>0</td>\n",
       "    </tr>\n",
       "    <tr>\n",
       "      <th>4</th>\n",
       "      <td>01/22/2020</td>\n",
       "      <td>China</td>\n",
       "      <td>1/22/2020 17:00</td>\n",
       "      <td>0</td>\n",
       "      <td>0</td>\n",
       "      <td>0</td>\n",
       "    </tr>\n",
       "  </tbody>\n",
       "</table>\n",
       "</div>"
      ],
      "text/plain": [
       "  ObservationDate Country/Region      Last Update  Confirmed  Deaths  \\\n",
       "0      01/22/2020          China  1/22/2020 17:00          1       0   \n",
       "1      01/22/2020          China  1/22/2020 17:00         14       0   \n",
       "2      01/22/2020          China  1/22/2020 17:00          6       0   \n",
       "3      01/22/2020          China  1/22/2020 17:00          1       0   \n",
       "4      01/22/2020          China  1/22/2020 17:00          0       0   \n",
       "\n",
       "   Recovered  \n",
       "0          0  \n",
       "1          0  \n",
       "2          0  \n",
       "3          0  \n",
       "4          0  "
      ]
     },
     "execution_count": 78,
     "metadata": {},
     "output_type": "execute_result"
    }
   ],
   "source": [
    "data.head()"
   ]
  },
  {
   "cell_type": "code",
   "execution_count": 79,
   "metadata": {},
   "outputs": [
    {
     "name": "stderr",
     "output_type": "stream",
     "text": [
      "C:\\Users\\SONY\\anaconda3\\lib\\site-packages\\ipykernel_launcher.py:1: FutureWarning:\n",
      "\n",
      "Indexing with multiple keys (implicitly converted to a tuple of keys) will be deprecated, use a list instead.\n",
      "\n"
     ]
    }
   ],
   "source": [
    "covid_timeseries = data.groupby(['ObservationDate','Country/Region'])['Confirmed', 'Deaths', 'Recovered'].sum()\n",
    "covid_timeseries=covid_timeseries.reset_index().sort_values('ObservationDate')"
   ]
  },
  {
   "cell_type": "code",
   "execution_count": 80,
   "metadata": {},
   "outputs": [],
   "source": [
    "fig = go.Figure()\n",
    "x = [i.split('/')[0]+'/'+i.split('/')[1] for i in covid_timeseries.ObservationDate]\n",
    "covid_timeseries[\"ObservationDate\"] = x\n",
    "fig = px.line(covid_timeseries, x=\"ObservationDate\", y =\"Confirmed\", color=\"Country/Region\",line_group=\"Country/Region\", hover_name=\"Country/Region\")\n",
    "fig.update_layout(template='plotly_dark',title_text='COVID-19 confirmed cases for each country')\n",
    "output.append(dcc.Graph(id=\"fig4\",figure = fig))\n",
    "#fig.show()"
   ]
  },
  {
   "cell_type": "markdown",
   "metadata": {},
   "source": [
    "# Time series Data Analysis on Death cases till date global."
   ]
  },
  {
   "cell_type": "code",
   "execution_count": 81,
   "metadata": {},
   "outputs": [],
   "source": [
    "fig = px.line(covid_timeseries, x=\"ObservationDate\", y =\"Deaths\", color=\"Country/Region\",line_group=\"Country/Region\", hover_name=\"Country/Region\")\n",
    "fig.update_layout(template='plotly_dark',title_text='COVID-19 death cases for each country')\n",
    "output.append(dcc.Graph(id=\"fig5\",figure = fig))\n",
    "#fig.show()"
   ]
  },
  {
   "cell_type": "markdown",
   "metadata": {},
   "source": [
    "# Time Series Data Analysis on Recovered Cases till date global."
   ]
  },
  {
   "cell_type": "code",
   "execution_count": 82,
   "metadata": {},
   "outputs": [],
   "source": [
    "fig = px.line(covid_timeseries, x=\"ObservationDate\", y =\"Recovered\", color=\"Country/Region\",line_group=\"Country/Region\", hover_name=\"Country/Region\")\n",
    "fig.update_layout(template='plotly_dark',title_text='COVID-19 death cases for each country')\n",
    "output.append(dcc.Graph(id=\"fig6\",figure = fig))\n",
    "#fig.show()"
   ]
  },
  {
   "cell_type": "markdown",
   "metadata": {},
   "source": [
    "# Predict Age Cases on Covid-19 Between Age group"
   ]
  },
  {
   "cell_type": "code",
   "execution_count": 83,
   "metadata": {},
   "outputs": [
    {
     "data": {
      "text/html": [
       "<div>\n",
       "<style scoped>\n",
       "    .dataframe tbody tr th:only-of-type {\n",
       "        vertical-align: middle;\n",
       "    }\n",
       "\n",
       "    .dataframe tbody tr th {\n",
       "        vertical-align: top;\n",
       "    }\n",
       "\n",
       "    .dataframe thead th {\n",
       "        text-align: right;\n",
       "    }\n",
       "</style>\n",
       "<table border=\"1\" class=\"dataframe\">\n",
       "  <thead>\n",
       "    <tr style=\"text-align: right;\">\n",
       "      <th></th>\n",
       "      <th>Specimen Collection Date</th>\n",
       "      <th>Age Group</th>\n",
       "      <th>New Confirmed Cases</th>\n",
       "      <th>Cumulative Confirmed Cases</th>\n",
       "      <th>Last Updated at</th>\n",
       "    </tr>\n",
       "  </thead>\n",
       "  <tbody>\n",
       "    <tr>\n",
       "      <th>0</th>\n",
       "      <td>2020/03/12</td>\n",
       "      <td>51-60</td>\n",
       "      <td>2</td>\n",
       "      <td>6</td>\n",
       "      <td>08/09/2020 03:15:02 PM</td>\n",
       "    </tr>\n",
       "    <tr>\n",
       "      <th>1</th>\n",
       "      <td>2020/03/13</td>\n",
       "      <td>51-60</td>\n",
       "      <td>2</td>\n",
       "      <td>8</td>\n",
       "      <td>08/09/2020 03:15:02 PM</td>\n",
       "    </tr>\n",
       "    <tr>\n",
       "      <th>2</th>\n",
       "      <td>2020/03/14</td>\n",
       "      <td>51-60</td>\n",
       "      <td>1</td>\n",
       "      <td>9</td>\n",
       "      <td>08/09/2020 03:15:02 PM</td>\n",
       "    </tr>\n",
       "    <tr>\n",
       "      <th>3</th>\n",
       "      <td>2020/03/15</td>\n",
       "      <td>51-60</td>\n",
       "      <td>0</td>\n",
       "      <td>9</td>\n",
       "      <td>08/09/2020 03:15:02 PM</td>\n",
       "    </tr>\n",
       "    <tr>\n",
       "      <th>4</th>\n",
       "      <td>2020/03/16</td>\n",
       "      <td>51-60</td>\n",
       "      <td>8</td>\n",
       "      <td>17</td>\n",
       "      <td>08/09/2020 03:15:02 PM</td>\n",
       "    </tr>\n",
       "  </tbody>\n",
       "</table>\n",
       "</div>"
      ],
      "text/plain": [
       "  Specimen Collection Date Age Group  New Confirmed Cases  \\\n",
       "0               2020/03/12     51-60                    2   \n",
       "1               2020/03/13     51-60                    2   \n",
       "2               2020/03/14     51-60                    1   \n",
       "3               2020/03/15     51-60                    0   \n",
       "4               2020/03/16     51-60                    8   \n",
       "\n",
       "   Cumulative Confirmed Cases         Last Updated at  \n",
       "0                           6  08/09/2020 03:15:02 PM  \n",
       "1                           8  08/09/2020 03:15:02 PM  \n",
       "2                           9  08/09/2020 03:15:02 PM  \n",
       "3                           9  08/09/2020 03:15:02 PM  \n",
       "4                          17  08/09/2020 03:15:02 PM  "
      ]
     },
     "execution_count": 83,
     "metadata": {},
     "output_type": "execute_result"
    }
   ],
   "source": [
    "data_age.head()"
   ]
  },
  {
   "cell_type": "code",
   "execution_count": 84,
   "metadata": {},
   "outputs": [
    {
     "name": "stdout",
     "output_type": "stream",
     "text": [
      "<class 'pandas.core.frame.DataFrame'>\n",
      "RangeIndex: 1177 entries, 0 to 1176\n",
      "Data columns (total 5 columns):\n",
      " #   Column                      Non-Null Count  Dtype \n",
      "---  ------                      --------------  ----- \n",
      " 0   Specimen Collection Date    1177 non-null   object\n",
      " 1   Age Group                   1177 non-null   object\n",
      " 2   New Confirmed Cases         1177 non-null   int64 \n",
      " 3   Cumulative Confirmed Cases  1177 non-null   int64 \n",
      " 4   Last Updated at             1177 non-null   object\n",
      "dtypes: int64(2), object(3)\n",
      "memory usage: 46.1+ KB\n"
     ]
    }
   ],
   "source": [
    "data_age.info()"
   ]
  },
  {
   "cell_type": "code",
   "execution_count": 85,
   "metadata": {},
   "outputs": [],
   "source": [
    "data_age['Last Updated at']=pd.to_datetime(data_age['Last Updated at'])\n",
    "data_age['Specimen Collection Date']=pd.to_datetime(data_age['Specimen Collection Date'])"
   ]
  },
  {
   "cell_type": "code",
   "execution_count": 86,
   "metadata": {},
   "outputs": [],
   "source": [
    "from sklearn.preprocessing import LabelEncoder\n",
    "le=LabelEncoder()"
   ]
  },
  {
   "cell_type": "code",
   "execution_count": 87,
   "metadata": {},
   "outputs": [],
   "source": [
    "values =le.fit_transform(data_age['Age Group'])\n",
    "data_age['values']= values"
   ]
  },
  {
   "cell_type": "code",
   "execution_count": 88,
   "metadata": {},
   "outputs": [],
   "source": [
    "data_age_copy = data_age.copy()"
   ]
  },
  {
   "cell_type": "code",
   "execution_count": 89,
   "metadata": {},
   "outputs": [],
   "source": [
    "Xa=data_age.drop(['Specimen Collection Date','New Confirmed Cases','Last Updated at','Age Group'],axis=1)\n",
    "ya=data_age['values']"
   ]
  },
  {
   "cell_type": "code",
   "execution_count": 90,
   "metadata": {},
   "outputs": [],
   "source": [
    "Xa_train, Xa_test, ya_train, ya_test = train_test_split(Xa, ya, test_size=0.1, random_state=0)"
   ]
  },
  {
   "cell_type": "code",
   "execution_count": 91,
   "metadata": {},
   "outputs": [],
   "source": [
    "from sklearn.linear_model import LogisticRegression"
   ]
  },
  {
   "cell_type": "code",
   "execution_count": 92,
   "metadata": {},
   "outputs": [
    {
     "data": {
      "text/plain": [
       "LogisticRegression(C=1.0, class_weight=None, dual=False, fit_intercept=True,\n",
       "                   intercept_scaling=1, l1_ratio=None, max_iter=1000,\n",
       "                   multi_class='auto', n_jobs=None, penalty='l2',\n",
       "                   random_state=None, solver='liblinear', tol=0.0001, verbose=0,\n",
       "                   warm_start=False)"
      ]
     },
     "execution_count": 92,
     "metadata": {},
     "output_type": "execute_result"
    }
   ],
   "source": [
    "model=LogisticRegression(max_iter=1000,solver='liblinear')\n",
    "model.fit(Xa_train,ya_train)"
   ]
  },
  {
   "cell_type": "code",
   "execution_count": 93,
   "metadata": {},
   "outputs": [],
   "source": [
    "pred_model = model.predict(Xa_test)"
   ]
  },
  {
   "cell_type": "code",
   "execution_count": 94,
   "metadata": {},
   "outputs": [
    {
     "data": {
      "text/html": [
       "<div>\n",
       "<style scoped>\n",
       "    .dataframe tbody tr th:only-of-type {\n",
       "        vertical-align: middle;\n",
       "    }\n",
       "\n",
       "    .dataframe tbody tr th {\n",
       "        vertical-align: top;\n",
       "    }\n",
       "\n",
       "    .dataframe thead th {\n",
       "        text-align: right;\n",
       "    }\n",
       "</style>\n",
       "<table border=\"1\" class=\"dataframe\">\n",
       "  <thead>\n",
       "    <tr style=\"text-align: right;\">\n",
       "      <th></th>\n",
       "      <th>Actual</th>\n",
       "      <th>Predicted</th>\n",
       "    </tr>\n",
       "  </thead>\n",
       "  <tbody>\n",
       "    <tr>\n",
       "      <th>483</th>\n",
       "      <td>0</td>\n",
       "      <td>0</td>\n",
       "    </tr>\n",
       "    <tr>\n",
       "      <th>933</th>\n",
       "      <td>2</td>\n",
       "      <td>2</td>\n",
       "    </tr>\n",
       "    <tr>\n",
       "      <th>1170</th>\n",
       "      <td>4</td>\n",
       "      <td>3</td>\n",
       "    </tr>\n",
       "    <tr>\n",
       "      <th>682</th>\n",
       "      <td>6</td>\n",
       "      <td>6</td>\n",
       "    </tr>\n",
       "    <tr>\n",
       "      <th>192</th>\n",
       "      <td>5</td>\n",
       "      <td>5</td>\n",
       "    </tr>\n",
       "    <tr>\n",
       "      <th>...</th>\n",
       "      <td>...</td>\n",
       "      <td>...</td>\n",
       "    </tr>\n",
       "    <tr>\n",
       "      <th>836</th>\n",
       "      <td>7</td>\n",
       "      <td>7</td>\n",
       "    </tr>\n",
       "    <tr>\n",
       "      <th>895</th>\n",
       "      <td>2</td>\n",
       "      <td>3</td>\n",
       "    </tr>\n",
       "    <tr>\n",
       "      <th>918</th>\n",
       "      <td>2</td>\n",
       "      <td>2</td>\n",
       "    </tr>\n",
       "    <tr>\n",
       "      <th>1129</th>\n",
       "      <td>4</td>\n",
       "      <td>4</td>\n",
       "    </tr>\n",
       "    <tr>\n",
       "      <th>27</th>\n",
       "      <td>3</td>\n",
       "      <td>3</td>\n",
       "    </tr>\n",
       "  </tbody>\n",
       "</table>\n",
       "<p>118 rows × 2 columns</p>\n",
       "</div>"
      ],
      "text/plain": [
       "      Actual  Predicted\n",
       "483        0          0\n",
       "933        2          2\n",
       "1170       4          3\n",
       "682        6          6\n",
       "192        5          5\n",
       "...      ...        ...\n",
       "836        7          7\n",
       "895        2          3\n",
       "918        2          2\n",
       "1129       4          4\n",
       "27         3          3\n",
       "\n",
       "[118 rows x 2 columns]"
      ]
     },
     "execution_count": 94,
     "metadata": {},
     "output_type": "execute_result"
    }
   ],
   "source": [
    "pd.DataFrame({'Actual':ya_test,'Predicted':pred_model})"
   ]
  },
  {
   "cell_type": "code",
   "execution_count": 95,
   "metadata": {},
   "outputs": [],
   "source": [
    "from sklearn.metrics import confusion_matrix,accuracy_score,classification_report"
   ]
  },
  {
   "cell_type": "code",
   "execution_count": 96,
   "metadata": {},
   "outputs": [
    {
     "name": "stdout",
     "output_type": "stream",
     "text": [
      "              precision    recall  f1-score   support\n",
      "\n",
      "           0       1.00      1.00      1.00        13\n",
      "           1       0.50      0.88      0.64         8\n",
      "           2       0.93      0.54      0.68        24\n",
      "           3       0.56      0.69      0.62        13\n",
      "           4       0.92      0.55      0.69        22\n",
      "           5       0.52      0.86      0.65        14\n",
      "           6       0.69      0.85      0.76        13\n",
      "           7       0.78      0.64      0.70        11\n",
      "\n",
      "    accuracy                           0.71       118\n",
      "   macro avg       0.74      0.75      0.72       118\n",
      "weighted avg       0.78      0.71      0.71       118\n",
      "\n"
     ]
    }
   ],
   "source": [
    "print(classification_report(ya_test,pred_model))"
   ]
  },
  {
   "cell_type": "code",
   "execution_count": 97,
   "metadata": {},
   "outputs": [],
   "source": [
    "fig=px.bar(y=data_age_copy['Cumulative Confirmed Cases'],x=data_age_copy['Age Group'])\n",
    "fig.update_layout(template='plotly_dark',title='Distribution Of Cases As Per Age : ',yaxis_title='Number Of Cumulative Cases',xaxis_title='Age Groups')\n",
    "#fig.show()\n",
    "output.append(dcc.Graph(id=\"fig7\",figure = fig))"
   ]
  },
  {
   "cell_type": "markdown",
   "metadata": {},
   "source": [
    "Age cases between 31-40 are most affected"
   ]
  },
  {
   "cell_type": "markdown",
   "metadata": {},
   "source": [
    "# Predict Highly affected Age Group on global."
   ]
  },
  {
   "cell_type": "code",
   "execution_count": 98,
   "metadata": {},
   "outputs": [
    {
     "data": {
      "text/html": [
       "<div>\n",
       "<style scoped>\n",
       "    .dataframe tbody tr th:only-of-type {\n",
       "        vertical-align: middle;\n",
       "    }\n",
       "\n",
       "    .dataframe tbody tr th {\n",
       "        vertical-align: top;\n",
       "    }\n",
       "\n",
       "    .dataframe thead th {\n",
       "        text-align: right;\n",
       "    }\n",
       "</style>\n",
       "<table border=\"1\" class=\"dataframe\">\n",
       "  <thead>\n",
       "    <tr style=\"text-align: right;\">\n",
       "      <th></th>\n",
       "      <th>Age group</th>\n",
       "      <th>COVID-19 Deaths</th>\n",
       "    </tr>\n",
       "  </thead>\n",
       "  <tbody>\n",
       "    <tr>\n",
       "      <th>0</th>\n",
       "      <td>1-4 years</td>\n",
       "      <td>20.0</td>\n",
       "    </tr>\n",
       "    <tr>\n",
       "      <th>1</th>\n",
       "      <td>15-24 years</td>\n",
       "      <td>516.0</td>\n",
       "    </tr>\n",
       "    <tr>\n",
       "      <th>2</th>\n",
       "      <td>25-34 years</td>\n",
       "      <td>2997.0</td>\n",
       "    </tr>\n",
       "    <tr>\n",
       "      <th>3</th>\n",
       "      <td>35-44 years</td>\n",
       "      <td>8009.0</td>\n",
       "    </tr>\n",
       "    <tr>\n",
       "      <th>4</th>\n",
       "      <td>45-54 years</td>\n",
       "      <td>21813.0</td>\n",
       "    </tr>\n",
       "    <tr>\n",
       "      <th>5</th>\n",
       "      <td>5-14 years</td>\n",
       "      <td>40.0</td>\n",
       "    </tr>\n",
       "    <tr>\n",
       "      <th>6</th>\n",
       "      <td>55-64 years</td>\n",
       "      <td>52697.0</td>\n",
       "    </tr>\n",
       "    <tr>\n",
       "      <th>7</th>\n",
       "      <td>65-74 years</td>\n",
       "      <td>89561.0</td>\n",
       "    </tr>\n",
       "    <tr>\n",
       "      <th>8</th>\n",
       "      <td>75-84 years</td>\n",
       "      <td>112435.0</td>\n",
       "    </tr>\n",
       "    <tr>\n",
       "      <th>9</th>\n",
       "      <td>85 years and over</td>\n",
       "      <td>137505.0</td>\n",
       "    </tr>\n",
       "    <tr>\n",
       "      <th>10</th>\n",
       "      <td>All Ages</td>\n",
       "      <td>426525.0</td>\n",
       "    </tr>\n",
       "    <tr>\n",
       "      <th>11</th>\n",
       "      <td>All ages</td>\n",
       "      <td>284340.0</td>\n",
       "    </tr>\n",
       "    <tr>\n",
       "      <th>12</th>\n",
       "      <td>Under 1 year</td>\n",
       "      <td>30.0</td>\n",
       "    </tr>\n",
       "  </tbody>\n",
       "</table>\n",
       "</div>"
      ],
      "text/plain": [
       "            Age group  COVID-19 Deaths\n",
       "0           1-4 years             20.0\n",
       "1         15-24 years            516.0\n",
       "2         25-34 years           2997.0\n",
       "3         35-44 years           8009.0\n",
       "4         45-54 years          21813.0\n",
       "5          5-14 years             40.0\n",
       "6         55-64 years          52697.0\n",
       "7         65-74 years          89561.0\n",
       "8         75-84 years         112435.0\n",
       "9   85 years and over         137505.0\n",
       "10           All Ages         426525.0\n",
       "11           All ages         284340.0\n",
       "12       Under 1 year             30.0"
      ]
     },
     "execution_count": 98,
     "metadata": {},
     "output_type": "execute_result"
    }
   ],
   "source": [
    "data_age2 = pd.read_csv(\"Provisional_COVID-19_Death_Counts_by_Sex__Age__and_State.csv\")\n",
    "data_age2 = data_age2[[\"Age group\",\"COVID-19 Deaths\"]]\n",
    "data_age2 = data_age2.groupby(\"Age group\").sum().reset_index()\n",
    "data_age2"
   ]
  },
  {
   "cell_type": "code",
   "execution_count": 99,
   "metadata": {},
   "outputs": [],
   "source": [
    "data_age2 = data_age2.drop(data_age2.index[9:12])\n",
    "fig=px.line(data_age2,x=data_age2[\"Age group\"],y=data_age2[\"COVID-19 Deaths\"],)\n",
    "fig.update_layout(template='plotly_dark',title='Predicting Highly affected Age group due to Covid-19',yaxis_title='COVID-19 Deaths',xaxis_title='Age group')\n",
    "#fig.show()\n",
    "output.append(dcc.Graph(id=\"fig8\",figure = fig))"
   ]
  },
  {
   "cell_type": "code",
   "execution_count": 100,
   "metadata": {},
   "outputs": [],
   "source": [
    "app = JupyterDash(__name__)"
   ]
  },
  {
   "cell_type": "code",
   "execution_count": 101,
   "metadata": {},
   "outputs": [],
   "source": [
    "app.layout = html.Div(children=output)"
   ]
  },
  {
   "cell_type": "code",
   "execution_count": 102,
   "metadata": {},
   "outputs": [
    {
     "name": "stdout",
     "output_type": "stream",
     "text": [
      "Dash app running on http://127.0.0.1:8050/\n"
     ]
    }
   ],
   "source": [
    "app.run_server(mode='external')"
   ]
  },
  {
   "cell_type": "code",
   "execution_count": 104,
   "metadata": {},
   "outputs": [],
   "source": [
    "from pyngrok import ngrok\n",
    "public_url = ngrok.connect(port = '8050')"
   ]
  },
  {
   "cell_type": "code",
   "execution_count": 105,
   "metadata": {},
   "outputs": [
    {
     "data": {
      "text/plain": [
       "'http://a1db7b5c9ed9.ngrok.io'"
      ]
     },
     "execution_count": 105,
     "metadata": {},
     "output_type": "execute_result"
    },
    {
     "name": "stderr",
     "output_type": "stream",
     "text": [
      "t=2020-08-19T15:46:02+0530 lvl=eror msg=\"heartbeat timeout, terminating session\" obj=csess id=cc0abe68230d clientid=a31a0bfd4fe7574a6475f8b88ded7599\n",
      "\n",
      "t=2020-08-19T15:46:02+0530 lvl=eror msg=\"session closed, starting reconnect loop\" obj=csess id=2f5cbd4ae4bc err=\"session closed\"\n",
      "\n",
      "t=2020-08-19T15:46:12+0530 lvl=eror msg=\"failed to reconnect session\" obj=csess id=2f5cbd4ae4bc err=\"dial tcp: i/o timeout\"\n",
      "\n",
      "t=2020-08-19T15:46:13+0530 lvl=eror msg=\"failed to reconnect session\" obj=csess id=2f5cbd4ae4bc err=\"dial tcp: lookup tunnel.us.ngrok.com: no such host\"\n",
      "\n",
      "t=2020-08-19T15:46:14+0530 lvl=eror msg=\"failed to reconnect session\" obj=csess id=2f5cbd4ae4bc err=\"Get https://dns.google.com/resolve?cd=true&name=tunnel.us.ngrok.com&type=AAAA: dial tcp: lookup dns.google.com: no such host\"\n",
      "\n",
      "t=2020-08-19T15:46:16+0530 lvl=eror msg=\"failed to reconnect session\" obj=csess id=2f5cbd4ae4bc err=\"Get https://s3.amazonaws.com/dns.ngrok.com/tunnel.json: dial tcp: lookup s3.amazonaws.com: no such host\"\n",
      "\n",
      "t=2020-08-19T15:46:18+0530 lvl=eror msg=\"failed to reconnect session\" obj=csess id=2f5cbd4ae4bc err=\"resolved tunnel.us.ngrok.com has no records\"\n",
      "\n",
      "t=2020-08-19T15:46:23+0530 lvl=eror msg=\"failed to reconnect session\" obj=csess id=2f5cbd4ae4bc err=\"x509: certificate is valid for tunnel.us.ngrok.com, not korgn.su.lennut.com\"\n",
      "\n",
      "t=2020-08-19T15:46:29+0530 lvl=eror msg=\"failed to reconnect session\" obj=csess id=2f5cbd4ae4bc err=\"x509: certificate is valid for tunnel.us.ngrok.com, not korgn.su.lennut.com\"\n",
      "\n",
      "t=2020-08-19T15:46:45+0530 lvl=eror msg=\"failed to reconnect session\" obj=csess id=2f5cbd4ae4bc err=\"dial tcp 18.188.49.161:443: i/o timeout\"\n",
      "\n",
      "t=2020-08-19T15:46:57+0530 lvl=eror msg=\"failed to reconnect session\" obj=csess id=2f5cbd4ae4bc err=\"resolved tunnel.us.ngrok.com has no records\"\n",
      "\n",
      "t=2020-08-19T16:18:56+0530 lvl=eror msg=\"session closed, starting reconnect loop\" obj=csess id=2f5cbd4ae4bc err=\"read EOF from remote peer\"\n",
      "\n",
      "t=2020-08-19T16:19:01+0530 lvl=eror msg=\"heartbeat timeout, terminating session\" obj=csess id=9f960ce495d8 clientid=a31a0bfd4fe7574a6475f8b88ded7599\n",
      "\n",
      "t=2020-08-19T16:36:20+0530 lvl=eror msg=\"heartbeat timeout, terminating session\" obj=csess id=e492b5f15b10 clientid=a31a0bfd4fe7574a6475f8b88ded7599\n",
      "\n",
      "t=2020-08-19T16:36:20+0530 lvl=eror msg=\"session closed, starting reconnect loop\" obj=csess id=2f5cbd4ae4bc err=\"session closed\"\n",
      "\n",
      "t=2020-08-19T16:45:49+0530 lvl=eror msg=\"session closed, starting reconnect loop\" obj=csess id=2f5cbd4ae4bc err=\"read tcp [2402:8100:282b:3a54:2435:37f8:9bc9:dc2c]:57714->[2600:1f16:d83:1200::6e74:0]:443: wsarecv: A socket operation was attempted to an unreachable network.\"\n",
      "\n",
      "t=2020-08-19T16:45:49+0530 lvl=eror msg=\"failed to reconnect session\" obj=csess id=2f5cbd4ae4bc err=\"dial tcp: lookup tunnel.us.ngrok.com: no such host\"\n",
      "\n",
      "t=2020-08-19T16:45:54+0530 lvl=eror msg=\"heartbeat timeout, terminating session\" obj=csess id=13a3b81f2f4b clientid=a31a0bfd4fe7574a6475f8b88ded7599\n",
      "\n",
      "t=2020-08-19T17:25:48+0530 lvl=eror msg=\"heartbeat timeout, terminating session\" obj=csess id=0e7d67697679 clientid=a31a0bfd4fe7574a6475f8b88ded7599\n",
      "\n",
      "t=2020-08-19T17:25:48+0530 lvl=eror msg=\"session closed, starting reconnect loop\" obj=csess id=2f5cbd4ae4bc err=\"session closed\"\n",
      "\n",
      "t=2020-08-19T17:25:58+0530 lvl=eror msg=\"failed to reconnect session\" obj=csess id=2f5cbd4ae4bc err=\"dial tcp: i/o timeout\"\n",
      "\n",
      "t=2020-08-19T17:25:59+0530 lvl=eror msg=\"failed to reconnect session\" obj=csess id=2f5cbd4ae4bc err=\"dial tcp: lookup tunnel.us.ngrok.com: no such host\"\n",
      "\n",
      "t=2020-08-19T17:26:10+0530 lvl=eror msg=\"failed to reconnect session\" obj=csess id=2f5cbd4ae4bc err=\"Get https://dns.google.com/resolve?cd=true&name=tunnel.us.ngrok.com&type=AAAA: net/http: request canceled while waiting for connection (Client.Timeout exceeded while awaiting headers)\"\n",
      "\n",
      "t=2020-08-19T17:26:21+0530 lvl=eror msg=\"failed to reconnect session\" obj=csess id=2f5cbd4ae4bc err=\"Get https://s3.amazonaws.com/dns.ngrok.com/tunnel.json: net/http: request canceled while waiting for connection (Client.Timeout exceeded while awaiting headers)\"\n",
      "\n",
      "t=2020-08-19T17:26:23+0530 lvl=eror msg=\"failed to reconnect session\" obj=csess id=2f5cbd4ae4bc err=\"resolved tunnel.us.ngrok.com has no records\"\n",
      "\n",
      "t=2020-08-19T17:26:25+0530 lvl=eror msg=\"failed to reconnect session\" obj=csess id=2f5cbd4ae4bc err=\"dial tcp: lookup tunnel.us.ngrok.com: no such host\"\n",
      "\n",
      "t=2020-08-19T17:26:31+0530 lvl=eror msg=\"failed to reconnect session\" obj=csess id=2f5cbd4ae4bc err=\"x509: certificate is valid for tunnel.us.ngrok.com, not korgn.su.lennut.com\"\n",
      "\n",
      "t=2020-08-19T17:26:46+0530 lvl=eror msg=\"failed to reconnect session\" obj=csess id=2f5cbd4ae4bc err=\"dial tcp 18.188.49.161:443: i/o timeout\"\n",
      "\n",
      "t=2020-08-19T17:26:53+0530 lvl=eror msg=\"failed to reconnect session\" obj=csess id=2f5cbd4ae4bc err=\"resolved tunnel.us.ngrok.com has no records\"\n",
      "\n",
      "t=2020-08-19T17:27:41+0530 lvl=eror msg=\"heartbeat timeout, terminating session\" obj=csess id=e8b1d62b41a0 clientid=a31a0bfd4fe7574a6475f8b88ded7599\n",
      "\n",
      "t=2020-08-19T17:27:41+0530 lvl=eror msg=\"session closed, starting reconnect loop\" obj=csess id=2f5cbd4ae4bc err=\"session closed\"\n",
      "\n",
      "t=2020-08-19T17:27:51+0530 lvl=eror msg=\"failed to reconnect session\" obj=csess id=2f5cbd4ae4bc err=\"dial tcp: i/o timeout\"\n",
      "\n",
      "t=2020-08-19T17:27:52+0530 lvl=eror msg=\"failed to reconnect session\" obj=csess id=2f5cbd4ae4bc err=\"dial tcp: lookup tunnel.us.ngrok.com: no such host\"\n",
      "\n",
      "t=2020-08-19T17:28:03+0530 lvl=eror msg=\"failed to reconnect session\" obj=csess id=2f5cbd4ae4bc err=\"Get https://dns.google.com/resolve?cd=true&name=tunnel.us.ngrok.com&type=AAAA: net/http: request canceled (Client.Timeout exceeded while awaiting headers)\"\n",
      "\n",
      "t=2020-08-19T17:28:14+0530 lvl=eror msg=\"failed to reconnect session\" obj=csess id=2f5cbd4ae4bc err=\"Get https://s3.amazonaws.com/dns.ngrok.com/tunnel.json: context deadline exceeded (Client.Timeout exceeded while awaiting headers)\"\n",
      "\n",
      "t=2020-08-19T17:28:16+0530 lvl=eror msg=\"failed to reconnect session\" obj=csess id=2f5cbd4ae4bc err=\"resolved tunnel.us.ngrok.com has no records\"\n",
      "\n",
      "t=2020-08-19T17:28:20+0530 lvl=eror msg=\"failed to reconnect session\" obj=csess id=2f5cbd4ae4bc err=\"x509: certificate is valid for tunnel.us.ngrok.com, not korgn.su.lennut.com\"\n",
      "\n",
      "t=2020-08-19T17:28:26+0530 lvl=eror msg=\"failed to reconnect session\" obj=csess id=2f5cbd4ae4bc err=\"x509: certificate is valid for tunnel.us.ngrok.com, not korgn.su.lennut.com\"\n",
      "\n",
      "t=2020-08-19T17:28:44+0530 lvl=eror msg=\"failed to reconnect session\" obj=csess id=2f5cbd4ae4bc err=\"dial tcp 18.188.49.161:443: i/o timeout\"\n",
      "\n",
      "t=2020-08-19T17:28:55+0530 lvl=eror msg=\"failed to reconnect session\" obj=csess id=2f5cbd4ae4bc err=\"resolved tunnel.us.ngrok.com has no records\"\n",
      "\n",
      "t=2020-08-19T18:34:51+0530 lvl=eror msg=\"heartbeat timeout, terminating session\" obj=csess id=2a6e87c0659f clientid=a31a0bfd4fe7574a6475f8b88ded7599\n",
      "\n",
      "t=2020-08-19T18:34:51+0530 lvl=eror msg=\"session closed, starting reconnect loop\" obj=csess id=2f5cbd4ae4bc err=\"session closed\"\n",
      "\n",
      "t=2020-08-19T18:34:51+0530 lvl=eror msg=\"failed to reconnect session\" obj=csess id=2f5cbd4ae4bc err=\"dial tcp: lookup tunnel.us.ngrok.com: no such host\"\n",
      "\n",
      "t=2020-08-19T18:34:52+0530 lvl=eror msg=\"failed to reconnect session\" obj=csess id=2f5cbd4ae4bc err=\"dial tcp: lookup tunnel.us.ngrok.com: no such host\"\n",
      "\n",
      "t=2020-08-19T18:34:53+0530 lvl=eror msg=\"failed to reconnect session\" obj=csess id=2f5cbd4ae4bc err=\"Get https://dns.google.com/resolve?cd=true&name=tunnel.us.ngrok.com&type=A: dial tcp: lookup dns.google.com: no such host\"\n",
      "\n",
      "t=2020-08-19T18:35:04+0530 lvl=eror msg=\"failed to reconnect session\" obj=csess id=2f5cbd4ae4bc err=\"dial tcp 18.188.49.161:443: i/o timeout\"\n",
      "\n",
      "t=2020-08-19T18:35:05+0530 lvl=eror msg=\"failed to reconnect session\" obj=csess id=2f5cbd4ae4bc err=\"resolved tunnel.us.ngrok.com has no records\"\n",
      "\n"
     ]
    }
   ],
   "source": [
    "public_url"
   ]
  },
  {
   "cell_type": "code",
   "execution_count": null,
   "metadata": {},
   "outputs": [],
   "source": []
  }
 ],
 "metadata": {
  "kernelspec": {
   "display_name": "Python 3",
   "language": "python",
   "name": "python3"
  },
  "language_info": {
   "codemirror_mode": {
    "name": "ipython",
    "version": 3
   },
   "file_extension": ".py",
   "mimetype": "text/x-python",
   "name": "python",
   "nbconvert_exporter": "python",
   "pygments_lexer": "ipython3",
   "version": "3.7.6"
  }
 },
 "nbformat": 4,
 "nbformat_minor": 4
}
